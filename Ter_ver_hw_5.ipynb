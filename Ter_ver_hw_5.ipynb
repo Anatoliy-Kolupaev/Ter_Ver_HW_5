{
 "cells": [
  {
   "cell_type": "markdown",
   "id": "16cc052e",
   "metadata": {},
   "source": [
    "Задача №1:   \n",
    "Когда используется критерий Стьюдента, а когда Z –критерий?"
   ]
  },
  {
   "cell_type": "markdown",
   "id": "f52ac299",
   "metadata": {},
   "source": [
    "Z-критерий используется когда известна дисперсия   \n",
    "t-критерий используется когда дисперсия не известна"
   ]
  },
  {
   "cell_type": "markdown",
   "id": "33b58a5d",
   "metadata": {},
   "source": [
    "Задача №2:  \n",
    "Проведите тест гипотезы. Утверждается, что шарики для подшипников, изготовленные автоматическим станком, имеют средний диаметр 17 мм.\n",
    "Используя односторонний критерий с α=0,05, проверить эту гипотезу, если в выборке из n=100 шариков средний диаметр\n",
    "оказался равным 17.5 мм, а дисперсия известна и равна 4 кв. мм."
   ]
  },
  {
   "cell_type": "markdown",
   "id": "47089315",
   "metadata": {},
   "source": [
    "H0 : 17 = 17.5   \n",
    "H1 : 17 > 17.5"
   ]
  },
  {
   "cell_type": "code",
   "execution_count": 39,
   "id": "d680ce91",
   "metadata": {},
   "outputs": [
    {
     "name": "stdout",
     "output_type": "stream",
     "text": [
      "1.25\n"
     ]
    }
   ],
   "source": [
    "import scipy.stats as st\n",
    "import numpy as np\n",
    "\n",
    "zt = 1.645\n",
    "a = 0.05\n",
    "n = 100\n",
    "zn = (17.5-17)/(4/np.sqrt(n))\n",
    "print (zn)"
   ]
  },
  {
   "cell_type": "markdown",
   "id": "106d0f2b",
   "metadata": {},
   "source": [
    "Вывод: 1.25 попадает в область принятия нулевой гипотезы, следовательно гипотеза, что средний диаметр 17 мм при а = 0,05 верна."
   ]
  },
  {
   "cell_type": "markdown",
   "id": "b89a84c6",
   "metadata": {},
   "source": [
    "Задача №3:  \n",
    "Проведите тест гипотезы. Продавец утверждает, что средний вес пачки печенья составляет 200 г.\n",
    "Из партии извлечена выборка из 10 пачек. Вес каждой пачки составляет:\n",
    "202, 203, 199, 197, 195, 201, 200, 204, 194, 190.\n",
    "Известно, что их веса распределены нормально.\n",
    "Верно ли утверждение продавца, если учитывать, что доверительная вероятность равна 99%? (Провести двусторонний тест.)"
   ]
  },
  {
   "cell_type": "markdown",
   "id": "9ce2ce79",
   "metadata": {},
   "source": [
    "H0 = 200  \n",
    "H1 <> 200"
   ]
  },
  {
   "cell_type": "code",
   "execution_count": 13,
   "id": "eb8c95f3",
   "metadata": {},
   "outputs": [
    {
     "data": {
      "text/plain": [
       "198.5"
      ]
     },
     "execution_count": 13,
     "metadata": {},
     "output_type": "execute_result"
    }
   ],
   "source": [
    "x = np.array([202, 203, 199, 197, 195, 201, 200, 204, 194, 190])\n",
    "sr = np.mean(x)\n",
    "sr"
   ]
  },
  {
   "cell_type": "code",
   "execution_count": 14,
   "id": "e48d515b",
   "metadata": {},
   "outputs": [
    {
     "data": {
      "text/plain": [
       "4.453463071962462"
      ]
     },
     "execution_count": 14,
     "metadata": {},
     "output_type": "execute_result"
    }
   ],
   "source": [
    "m = np.std(x, ddof=1)\n",
    "m"
   ]
  },
  {
   "cell_type": "code",
   "execution_count": 15,
   "id": "fcff58f7",
   "metadata": {},
   "outputs": [
    {
     "data": {
      "text/plain": [
       "10"
      ]
     },
     "execution_count": 15,
     "metadata": {},
     "output_type": "execute_result"
    }
   ],
   "source": [
    "i = len(x)\n",
    "i"
   ]
  },
  {
   "cell_type": "code",
   "execution_count": 22,
   "id": "d5c6a180",
   "metadata": {},
   "outputs": [
    {
     "data": {
      "text/plain": [
       "-1.0651074037450896"
      ]
     },
     "execution_count": 22,
     "metadata": {},
     "output_type": "execute_result"
    }
   ],
   "source": [
    "t =(sr-200)/(m/np.sqrt(i))\n",
    "t"
   ]
  },
  {
   "cell_type": "code",
   "execution_count": 27,
   "id": "becd803c",
   "metadata": {},
   "outputs": [
    {
     "data": {
      "text/plain": [
       "2.8214379233005493"
      ]
     },
     "execution_count": 27,
     "metadata": {},
     "output_type": "execute_result"
    }
   ],
   "source": [
    "k = st.t.ppf(0.99, 9)\n",
    "k"
   ]
  },
  {
   "cell_type": "code",
   "execution_count": 35,
   "id": "37977d2c",
   "metadata": {},
   "outputs": [
    {
     "data": {
      "text/plain": [
       "-0.6854333964752715"
      ]
     },
     "execution_count": 35,
     "metadata": {},
     "output_type": "execute_result"
    }
   ],
   "source": [
    "l = 1 - 2*(1 - st.t.cdf(t, 9))\n",
    "l"
   ]
  },
  {
   "cell_type": "code",
   "execution_count": 36,
   "id": "801f78b4",
   "metadata": {},
   "outputs": [
    {
     "data": {
      "text/plain": [
       "0.31456660352472854"
      ]
     },
     "execution_count": 36,
     "metadata": {},
     "output_type": "execute_result"
    }
   ],
   "source": [
    "pv = 1 + l\n",
    "pv"
   ]
  },
  {
   "cell_type": "markdown",
   "id": "94f3f561",
   "metadata": {},
   "source": [
    "Вывод: Наблюдаемое значение  -1.056 попадает в интервал двухстороннего теста от -2.82 до 2.82 следовательно это нулевая гипотеза (что средний вес пачки печенья составляет 200 г.)"
   ]
  },
  {
   "cell_type": "markdown",
   "id": "873b6a77",
   "metadata": {},
   "source": [
    "Задача №4:  \n",
    "Есть ли статистически значимые различия в росте дочерей? \n",
    "\n",
    "Рост матерей 172, 177, 158, 170, 178,175, 164, 160, 169  \n",
    "Рост взрослых дочерей: 173, 175, 162, 174, 175, 168, 155, 170, 160"
   ]
  },
  {
   "cell_type": "markdown",
   "id": "e805a6ac",
   "metadata": {},
   "source": [
    "Н0 = различий нет\n",
    "Н1 = различия есть"
   ]
  },
  {
   "cell_type": "code",
   "execution_count": 41,
   "id": "e51b32e2",
   "metadata": {},
   "outputs": [
    {
     "data": {
      "text/plain": [
       "Ttest_indResult(statistic=0.35581195161541973, pvalue=0.7266292679160495)"
      ]
     },
     "execution_count": 41,
     "metadata": {},
     "output_type": "execute_result"
    }
   ],
   "source": [
    "rm = np.array([172, 177, 158, 170, 178, 175, 164, 160, 169])\n",
    "rd = np.array([173, 175, 162, 174, 175, 168, 155, 170, 160])\n",
    "res = st.ttest_ind(rm, rd)\n",
    "res"
   ]
  },
  {
   "cell_type": "code",
   "execution_count": 42,
   "id": "621ff408",
   "metadata": {},
   "outputs": [
    {
     "data": {
      "text/plain": [
       "2.1199052992210112"
      ]
     },
     "execution_count": 42,
     "metadata": {},
     "output_type": "execute_result"
    }
   ],
   "source": [
    "kw = st.t.ppf(0.975, 16)\n",
    "kw"
   ]
  },
  {
   "cell_type": "markdown",
   "id": "fda15782",
   "metadata": {},
   "source": [
    "Вывод: поскольку pvalue=0.7266292679160495 больше чем 5% то мы принимает нулевую гипотезу, что статистически значимых различий в росте дочерей нет.  \n",
    "Наблюдаемое значение 0.355 попадает в интервал двухстороннего теста от -2.11 до 2.11 следовательно это нулевая гипотеза, что статистически значимых различий в росте дочерей нет."
   ]
  },
  {
   "cell_type": "code",
   "execution_count": null,
   "id": "b6efbe69",
   "metadata": {},
   "outputs": [],
   "source": []
  }
 ],
 "metadata": {
  "kernelspec": {
   "display_name": "Python 3 (ipykernel)",
   "language": "python",
   "name": "python3"
  },
  "language_info": {
   "codemirror_mode": {
    "name": "ipython",
    "version": 3
   },
   "file_extension": ".py",
   "mimetype": "text/x-python",
   "name": "python",
   "nbconvert_exporter": "python",
   "pygments_lexer": "ipython3",
   "version": "3.9.13"
  }
 },
 "nbformat": 4,
 "nbformat_minor": 5
}
